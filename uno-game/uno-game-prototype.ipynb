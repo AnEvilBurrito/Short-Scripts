{
 "cells": [
  {
   "cell_type": "code",
   "execution_count": null,
   "metadata": {},
   "outputs": [],
   "source": [
    "# In this exercise we will simulate complete decks of Uno cards, as well as \n",
    "# the entire gameplay with multiple players. \n",
    "\n",
    "class UnoCard: \n",
    "    \n",
    "    def __init__(self, suit: str, number: str) -> None:\n",
    "        self.suit = \"\""
   ]
  }
 ],
 "metadata": {
  "kernelspec": {
   "display_name": ".venv",
   "language": "python",
   "name": "python3"
  },
  "language_info": {
   "name": "python",
   "version": "3.10.7"
  }
 },
 "nbformat": 4,
 "nbformat_minor": 2
}
