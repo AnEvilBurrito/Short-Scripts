{
 "cells": [
  {
   "cell_type": "markdown",
   "metadata": {},
   "source": [
    "# Compares different plans based on past electricity data"
   ]
  },
  {
   "cell_type": "code",
   "execution_count": 1,
   "metadata": {},
   "outputs": [],
   "source": [
    "energyAu = {\n",
    "    'supply_charge': 0.988,\n",
    "    'peak_charge': 0.349,\n",
    "    'off_peak_charge': 0.186,\n",
    "    'solar_export': 0.054\n",
    "}\n",
    "\n",
    "ovoEnergy = {\n",
    "    'supply_charge': 0.9515,\n",
    "    'peak_charge': 0.3498,\n",
    "    'off_peak_charge': 0.1595,\n",
    "    'solar_export': 0.033\n",
    "}"
   ]
  },
  {
   "cell_type": "code",
   "execution_count": 17,
   "metadata": {},
   "outputs": [],
   "source": [
    "def estimateMonthlyCost(energy, pastData, verbose=False):\n",
    "    offPeakCost = pastData['off_peak_usage'] * energy['off_peak_charge']\n",
    "    peakCost = pastData['peak_usage'] * energy['peak_charge']\n",
    "    solarExport = pastData['solar_export'] * energy['solar_export']\n",
    "    supplyCharge = 30 * energy['supply_charge']\n",
    "    if verbose:\n",
    "        print(f\"Off peak cost: {offPeakCost:.2f}\")\n",
    "        print(f\"Peak cost: {peakCost:.2f}\")\n",
    "        print(f\"Solar export: {solarExport:.2f}\")\n",
    "        print(f\"Supply charge: {supplyCharge:.2f}\")\n",
    "        print(f\"Total: {offPeakCost + peakCost - solarExport + supplyCharge:.2f}\")\n",
    "    return offPeakCost + peakCost - solarExport + supplyCharge"
   ]
  },
  {
   "cell_type": "markdown",
   "metadata": {},
   "source": [
    "## Dec to Jan"
   ]
  },
  {
   "cell_type": "code",
   "execution_count": 24,
   "metadata": {},
   "outputs": [],
   "source": [
    "pastDataSummerDecToJan = {\n",
    "    'off_peak_usage': 313.98,\n",
    "    'peak_usage': 49.53,\n",
    "    'solar_export': 619.94\n",
    "}"
   ]
  },
  {
   "cell_type": "code",
   "execution_count": 25,
   "metadata": {},
   "outputs": [
    {
     "name": "stdout",
     "output_type": "stream",
     "text": [
      "Off peak cost: 50.08\n",
      "Peak cost: 17.33\n",
      "Solar export: 20.46\n",
      "Supply charge: 28.55\n",
      "Total: 75.49\n"
     ]
    }
   ],
   "source": [
    "ovo = estimateMonthlyCost(ovoEnergy, pastDataSummerDecToJan, verbose=True)"
   ]
  },
  {
   "cell_type": "code",
   "execution_count": 26,
   "metadata": {},
   "outputs": [
    {
     "name": "stdout",
     "output_type": "stream",
     "text": [
      "Off peak cost: 58.40\n",
      "Peak cost: 17.29\n",
      "Solar export: 33.48\n",
      "Supply charge: 29.64\n",
      "Total: 71.85\n"
     ]
    }
   ],
   "source": [
    "energyau = estimateMonthlyCost(energyAu, pastDataSummerDecToJan, verbose=True)"
   ]
  },
  {
   "cell_type": "markdown",
   "metadata": {},
   "source": [
    "Conclusion: in summer, energyAu is more profitable"
   ]
  },
  {
   "cell_type": "markdown",
   "metadata": {},
   "source": [
    "## Jan to Feb"
   ]
  },
  {
   "cell_type": "code",
   "execution_count": 27,
   "metadata": {},
   "outputs": [],
   "source": [
    "pastDataSummerJanToFeb = {\n",
    "    'off_peak_usage': 305.76,\n",
    "    'peak_usage': 43.4,\n",
    "    'solar_export': 771.23\n",
    "}"
   ]
  },
  {
   "cell_type": "code",
   "execution_count": 28,
   "metadata": {},
   "outputs": [
    {
     "name": "stdout",
     "output_type": "stream",
     "text": [
      "Off peak cost: 48.77\n",
      "Peak cost: 15.18\n",
      "Solar export: 25.45\n",
      "Supply charge: 28.55\n",
      "Total: 67.04\n"
     ]
    }
   ],
   "source": [
    "ovo = estimateMonthlyCost(ovoEnergy, pastDataSummerJanToFeb, verbose=True)"
   ]
  },
  {
   "cell_type": "code",
   "execution_count": 29,
   "metadata": {},
   "outputs": [
    {
     "name": "stdout",
     "output_type": "stream",
     "text": [
      "Off peak cost: 56.87\n",
      "Peak cost: 15.15\n",
      "Solar export: 41.65\n",
      "Supply charge: 29.64\n",
      "Total: 60.01\n"
     ]
    }
   ],
   "source": [
    "energyau = estimateMonthlyCost(energyAu, pastDataSummerJanToFeb, verbose=True)"
   ]
  },
  {
   "cell_type": "markdown",
   "metadata": {},
   "source": [
    "## Feb to Mar\n"
   ]
  },
  {
   "cell_type": "code",
   "execution_count": 32,
   "metadata": {},
   "outputs": [
    {
     "name": "stdout",
     "output_type": "stream",
     "text": [
      "--- Ovo Energy\n",
      "Off peak cost: 46.64\n",
      "Peak cost: 19.51\n",
      "Solar export: 21.31\n",
      "Supply charge: 28.55\n",
      "Total: 73.38\n",
      "--- Energy Australia\n",
      "Off peak cost: 54.39\n",
      "Peak cost: 19.46\n",
      "Solar export: 34.88\n",
      "Supply charge: 29.64\n",
      "Total: 68.62\n"
     ]
    }
   ],
   "source": [
    "pastDataSummerFebToMar = {\n",
    "    'off_peak_usage': 292.42,\n",
    "    'peak_usage': 55.77,\n",
    "    'solar_export': 645.9\n",
    "}\n",
    "\n",
    "print('--- Ovo Energy')\n",
    "ovo = estimateMonthlyCost(ovoEnergy, pastDataSummerFebToMar, verbose=True)\n",
    "print('--- Energy Australia')\n",
    "energyau = estimateMonthlyCost(energyAu, pastDataSummerFebToMar, verbose=True)"
   ]
  },
  {
   "cell_type": "markdown",
   "metadata": {},
   "source": [
    "EnergyAustralia's pricing structure rewards Solar Export and has a more balanced time of use energy profile compared to Ovo Energy. This has good benefits for peak usage and high solar exports in summer months. "
   ]
  },
  {
   "cell_type": "markdown",
   "metadata": {},
   "source": [
    "## Mar to Apr"
   ]
  },
  {
   "cell_type": "code",
   "execution_count": 34,
   "metadata": {},
   "outputs": [
    {
     "name": "stdout",
     "output_type": "stream",
     "text": [
      "--- Ovo Energy\n",
      "Off peak cost: 50.33\n",
      "Peak cost: 25.38\n",
      "Solar export: 14.62\n",
      "Supply charge: 28.55\n",
      "Total: 89.63\n",
      "--- Energy Australia\n",
      "Off peak cost: 58.69\n",
      "Peak cost: 25.32\n",
      "Solar export: 23.92\n",
      "Supply charge: 29.64\n",
      "Total: 89.73\n"
     ]
    }
   ],
   "source": [
    "pastDataMarToApr = {\n",
    "    'off_peak_usage': 315.53,\n",
    "    'peak_usage': 72.55,\n",
    "    'solar_export': 442.99\n",
    "}\n",
    "\n",
    "print('--- Ovo Energy')\n",
    "ovo = estimateMonthlyCost(ovoEnergy, pastDataMarToApr, verbose=True)\n",
    "print('--- Energy Australia')\n",
    "energyau = estimateMonthlyCost(energyAu, pastDataMarToApr, verbose=True)"
   ]
  },
  {
   "cell_type": "markdown",
   "metadata": {},
   "source": [
    "## Apr to May"
   ]
  },
  {
   "cell_type": "code",
   "execution_count": 35,
   "metadata": {},
   "outputs": [
    {
     "name": "stdout",
     "output_type": "stream",
     "text": [
      "--- Ovo Energy\n",
      "Off peak cost: 39.04\n",
      "Peak cost: 32.94\n",
      "Solar export: 8.98\n",
      "Supply charge: 28.55\n",
      "Total: 91.54\n",
      "--- Energy Australia\n",
      "Off peak cost: 45.52\n",
      "Peak cost: 32.86\n",
      "Solar export: 14.70\n",
      "Supply charge: 29.64\n",
      "Total: 93.32\n"
     ]
    }
   ],
   "source": [
    "pastDataAprToMay = {\n",
    "    'off_peak_usage': 244.75,\n",
    "    'peak_usage': 94.16,\n",
    "    'solar_export': 272.24\n",
    "}\n",
    "\n",
    "print('--- Ovo Energy')\n",
    "ovo = estimateMonthlyCost(ovoEnergy, pastDataAprToMay, verbose=True)\n",
    "print('--- Energy Australia')\n",
    "energyau = estimateMonthlyCost(energyAu, pastDataAprToMay, verbose=True)"
   ]
  },
  {
   "cell_type": "markdown",
   "metadata": {},
   "source": [
    "## May to Jun"
   ]
  },
  {
   "cell_type": "code",
   "execution_count": 37,
   "metadata": {},
   "outputs": [
    {
     "name": "stdout",
     "output_type": "stream",
     "text": [
      "--- Ovo Energy\n",
      "Off peak cost: 50.56\n",
      "Peak cost: 39.98\n",
      "Solar export: 5.67\n",
      "Supply charge: 28.55\n",
      "Total: 113.41\n",
      "--- Energy Australia\n",
      "Off peak cost: 58.96\n",
      "Peak cost: 39.88\n",
      "Solar export: 9.28\n",
      "Supply charge: 29.64\n",
      "Total: 119.20\n"
     ]
    }
   ],
   "source": [
    "pastDataMayToJun = {\n",
    "    'off_peak_usage': 316.97,\n",
    "    'peak_usage': 114.28,\n",
    "    'solar_export': 171.78\n",
    "}\n",
    "\n",
    "print('--- Ovo Energy')\n",
    "ovo = estimateMonthlyCost(ovoEnergy, pastDataMayToJun, verbose=True)\n",
    "print('--- Energy Australia')\n",
    "energyau = estimateMonthlyCost(energyAu, pastDataMayToJun, verbose=True)"
   ]
  },
  {
   "cell_type": "markdown",
   "metadata": {},
   "source": [
    "## Jun (Special)"
   ]
  },
  {
   "cell_type": "code",
   "execution_count": 38,
   "metadata": {},
   "outputs": [
    {
     "name": "stdout",
     "output_type": "stream",
     "text": [
      "--- Ovo Energy\n",
      "Off peak cost: 80.44\n",
      "Peak cost: 76.46\n",
      "Solar export: 1.27\n",
      "Supply charge: 28.55\n",
      "Total: 184.17\n",
      "--- Energy Australia\n",
      "Off peak cost: 93.81\n",
      "Peak cost: 76.28\n",
      "Solar export: 2.08\n",
      "Supply charge: 29.64\n",
      "Total: 197.65\n"
     ]
    }
   ],
   "source": [
    "pastDataJunSpecial = {\n",
    "    # uses an estimated profile based on 7 day data post air conditioning installation\n",
    "    'off_peak_usage': 117.68 / 7 * 30,\n",
    "    'peak_usage': 51 / 7 * 30,\n",
    "    'solar_export': 9 / 7 * 30\n",
    "}\n",
    "\n",
    "print('--- Ovo Energy')\n",
    "ovo = estimateMonthlyCost(ovoEnergy, pastDataJunSpecial, verbose=True)\n",
    "print('--- Energy Australia')\n",
    "energyau = estimateMonthlyCost(energyAu, pastDataJunSpecial, verbose=True)"
   ]
  },
  {
   "cell_type": "markdown",
   "metadata": {},
   "source": [
    "OvoEnergy is cheaper for winter when there is higher off-peak usage compared to solar export, based on mathematical analysis, EnergyAustralia is profitable when there is approximately 120% more solar export compared to offpeak usage, e.g. for every 1 kwh more off-peak energy used, there is a matching 1.2 kwh solar output for the particular month. This is especially true between Nov to Mar.\n",
    "\n",
    "Without additional benefits, the net benefit of switching to Ovo is low (estimated to be less than $50 per annum). If a switch is made, the optimal time is estimated to be the end of March 2025"
   ]
  }
 ],
 "metadata": {
  "kernelspec": {
   "display_name": ".venv",
   "language": "python",
   "name": "python3"
  },
  "language_info": {
   "codemirror_mode": {
    "name": "ipython",
    "version": 3
   },
   "file_extension": ".py",
   "mimetype": "text/x-python",
   "name": "python",
   "nbconvert_exporter": "python",
   "pygments_lexer": "ipython3",
   "version": "3.10.7"
  }
 },
 "nbformat": 4,
 "nbformat_minor": 2
}
