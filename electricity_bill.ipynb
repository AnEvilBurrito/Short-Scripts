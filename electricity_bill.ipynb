{
 "cells": [
  {
   "cell_type": "markdown",
   "metadata": {},
   "source": [
    "# Compares different plans based on past electricity data"
   ]
  },
  {
   "cell_type": "code",
   "execution_count": 1,
   "metadata": {},
   "outputs": [],
   "source": [
    "energyAu = {\n",
    "    'supply_charge': 0.988,\n",
    "    'peak_charge': 0.349,\n",
    "    'off_peak_charge': 0.186,\n",
    "    'solar_export': 0.054\n",
    "}\n",
    "\n",
    "ovoEnergy = {\n",
    "    'supply_charge': 0.9515,\n",
    "    'peak_charge': 0.3498,\n",
    "    'off_peak_charge': 0.1595,\n",
    "    'solar_export': 0.033\n",
    "}"
   ]
  },
  {
   "cell_type": "code",
   "execution_count": 135,
   "metadata": {},
   "outputs": [],
   "source": [
    "def estimateMonthlyCost(energy, pastData, verbose=False, concession=True):\n",
    "    offPeakCost = pastData['off_peak_usage'] * energy['off_peak_charge']\n",
    "    peakCost = pastData['peak_usage'] * energy['peak_charge']\n",
    "    solarExport = pastData['solar_export'] * energy['solar_export']\n",
    "    supplyCharge = 30 * energy['supply_charge']\n",
    "    totalCost = offPeakCost + peakCost - solarExport + supplyCharge\n",
    "    if verbose:\n",
    "        if concession: \n",
    "            print(f\"Before concession, total cost would be: {totalCost:.2f}\")\n",
    "        print(f\"Off peak cost: {offPeakCost:.2f}\")\n",
    "        print(f\"Peak cost: {peakCost:.2f}\")\n",
    "        print(f\"Solar export: -{solarExport:.2f}\")\n",
    "        print(f\"Supply charge: {supplyCharge:.2f}\")\n",
    "        if concession:\n",
    "            esttotalCost = totalCost * (1 - 0.175)\n",
    "        print(f\"Total: {esttotalCost:.2f}\")\n",
    "    if concession:\n",
    "        totalCost *= (1 - 0.175)\n",
    "    return totalCost"
   ]
  },
  {
   "cell_type": "markdown",
   "metadata": {},
   "source": [
    "## Jul 18 to Aug 18 (Without Airconditioning) "
   ]
  },
  {
   "cell_type": "code",
   "execution_count": 136,
   "metadata": {},
   "outputs": [
    {
     "name": "stdout",
     "output_type": "stream",
     "text": [
      "--- Ovo Energy\n",
      "Before concession, total cost would be: 98.79\n",
      "Off peak cost: 40.97\n",
      "Peak cost: 37.33\n",
      "Solar export: -8.06\n",
      "Supply charge: 28.55\n",
      "Total: 81.50\n",
      "--- Energy Australia\n",
      "Before concession, total cost would be: 101.47\n",
      "Off peak cost: 47.78\n",
      "Peak cost: 37.25\n",
      "Solar export: -13.19\n",
      "Supply charge: 29.64\n",
      "Total: 83.72\n"
     ]
    }
   ],
   "source": [
    "pastData = {\n",
    "    'off_peak_usage': 256.88,\n",
    "    'peak_usage': 106.72,\n",
    "    'solar_export': 244.3\n",
    "}\n",
    "\n",
    "print('--- Ovo Energy')\n",
    "ovo = estimateMonthlyCost(ovoEnergy, pastData, verbose=True)\n",
    "print('--- Energy Australia')\n",
    "energyau = estimateMonthlyCost(energyAu, pastData, verbose=True)"
   ]
  },
  {
   "cell_type": "markdown",
   "metadata": {},
   "source": [
    "## Aug to Sep"
   ]
  },
  {
   "cell_type": "code",
   "execution_count": 137,
   "metadata": {},
   "outputs": [
    {
     "name": "stdout",
     "output_type": "stream",
     "text": [
      "--- Ovo Energy\n",
      "Before concession, total cost would be: 76.09\n",
      "Off peak cost: 31.50\n",
      "Peak cost: 32.60\n",
      "Solar export: -16.56\n",
      "Supply charge: 28.55\n",
      "Total: 62.77\n",
      "--- Energy Australia\n",
      "Before concession, total cost would be: 71.80\n",
      "Off peak cost: 36.74\n",
      "Peak cost: 32.53\n",
      "Solar export: -27.10\n",
      "Supply charge: 29.64\n",
      "Total: 59.24\n"
     ]
    }
   ],
   "source": [
    "pastDataAugSep = {\n",
    "    'off_peak_usage': 197.52,\n",
    "    'peak_usage': 93.2,\n",
    "    'solar_export': 501.92\n",
    "}\n",
    "\n",
    "print('--- Ovo Energy')\n",
    "ovo = estimateMonthlyCost(ovoEnergy, pastDataAugSep, verbose=True)\n",
    "print('--- Energy Australia')\n",
    "energyau = estimateMonthlyCost(energyAu, pastDataAugSep, verbose=True)"
   ]
  },
  {
   "cell_type": "markdown",
   "metadata": {},
   "source": [
    "## Sep to Oct\n",
    "\n",
    "(Note the introduction of the plug-in hybrid vehicle raising the energy usage by 100 - 200 kwh per month)"
   ]
  },
  {
   "cell_type": "code",
   "execution_count": 138,
   "metadata": {},
   "outputs": [
    {
     "name": "stdout",
     "output_type": "stream",
     "text": [
      "--- Ovo Energy\n",
      "Before concession, total cost would be: 88.89\n",
      "Off peak cost: 48.54\n",
      "Peak cost: 28.37\n",
      "Solar export: -16.56\n",
      "Supply charge: 28.55\n",
      "Total: 73.33\n",
      "--- Energy Australia\n",
      "Before concession, total cost would be: 87.44\n",
      "Off peak cost: 56.60\n",
      "Peak cost: 28.30\n",
      "Solar export: -27.10\n",
      "Supply charge: 29.64\n",
      "Total: 72.14\n"
     ]
    }
   ],
   "source": [
    "pastData = {\n",
    "    'off_peak_usage': 304.3,\n",
    "    'peak_usage': 81.09,\n",
    "    'solar_export': 501.77\n",
    "}\n",
    "\n",
    "print('--- Ovo Energy')\n",
    "ovo = estimateMonthlyCost(ovoEnergy, pastData, verbose=True)\n",
    "print('--- Energy Australia')\n",
    "energyau = estimateMonthlyCost(energyAu, pastData, verbose=True)"
   ]
  },
  {
   "cell_type": "markdown",
   "metadata": {},
   "source": [
    "## Oct to Nov"
   ]
  },
  {
   "cell_type": "code",
   "execution_count": 139,
   "metadata": {},
   "outputs": [
    {
     "name": "stdout",
     "output_type": "stream",
     "text": [
      "--- Ovo Energy\n",
      "Before concession, total cost would be: 81.91\n",
      "Off peak cost: 54.44\n",
      "Peak cost: 21.56\n",
      "Solar export: -22.63\n",
      "Supply charge: 28.55\n",
      "Total: 67.58\n",
      "--- Energy Australia\n",
      "Before concession, total cost would be: 77.60\n",
      "Off peak cost: 63.49\n",
      "Peak cost: 21.51\n",
      "Solar export: -37.03\n",
      "Supply charge: 29.64\n",
      "Total: 64.02\n"
     ]
    }
   ],
   "source": [
    "pastData = {\n",
    "    'off_peak_usage': 341.32,\n",
    "    'peak_usage': 61.63,\n",
    "    'solar_export': 685.74\n",
    "}\n",
    "\n",
    "print('--- Ovo Energy')\n",
    "ovo = estimateMonthlyCost(ovoEnergy, pastData, verbose=True)\n",
    "print('--- Energy Australia')\n",
    "energyau = estimateMonthlyCost(energyAu, pastData, verbose=True)"
   ]
  },
  {
   "cell_type": "markdown",
   "metadata": {},
   "source": [
    "## Nov to Dec"
   ]
  },
  {
   "cell_type": "code",
   "execution_count": 140,
   "metadata": {},
   "outputs": [
    {
     "name": "stdout",
     "output_type": "stream",
     "text": [
      "--- Ovo Energy\n",
      "Before concession, total cost would be: 75.49\n",
      "Off peak cost: 50.08\n",
      "Peak cost: 17.33\n",
      "Solar export: -20.46\n",
      "Supply charge: 28.55\n",
      "Total: 62.28\n",
      "--- Energy Australia\n",
      "Before concession, total cost would be: 71.85\n",
      "Off peak cost: 58.40\n",
      "Peak cost: 17.29\n",
      "Solar export: -33.48\n",
      "Supply charge: 29.64\n",
      "Total: 59.28\n"
     ]
    }
   ],
   "source": [
    "pastDataSummerFebToMar = {\n",
    "    'off_peak_usage': 313.98,\n",
    "    'peak_usage': 49.53,\n",
    "    'solar_export': 619.94\n",
    "}\n",
    "\n",
    "print('--- Ovo Energy')\n",
    "ovo = estimateMonthlyCost(ovoEnergy, pastDataSummerFebToMar, verbose=True)\n",
    "print('--- Energy Australia')\n",
    "energyau = estimateMonthlyCost(energyAu, pastDataSummerFebToMar, verbose=True)"
   ]
  },
  {
   "cell_type": "markdown",
   "metadata": {},
   "source": [
    "## Dec to Jan"
   ]
  },
  {
   "cell_type": "code",
   "execution_count": 141,
   "metadata": {},
   "outputs": [],
   "source": [
    "pastDataSummerDecToJan = {\n",
    "    'off_peak_usage': 313.98,\n",
    "    'peak_usage': 49.53,\n",
    "    'solar_export': 619.94\n",
    "}"
   ]
  },
  {
   "cell_type": "code",
   "execution_count": 142,
   "metadata": {},
   "outputs": [
    {
     "name": "stdout",
     "output_type": "stream",
     "text": [
      "Before concession, total cost would be: 75.49\n",
      "Off peak cost: 50.08\n",
      "Peak cost: 17.33\n",
      "Solar export: -20.46\n",
      "Supply charge: 28.55\n",
      "Total: 62.28\n"
     ]
    }
   ],
   "source": [
    "ovo = estimateMonthlyCost(ovoEnergy, pastDataSummerDecToJan, verbose=True)"
   ]
  },
  {
   "cell_type": "code",
   "execution_count": 143,
   "metadata": {},
   "outputs": [
    {
     "name": "stdout",
     "output_type": "stream",
     "text": [
      "Before concession, total cost would be: 71.85\n",
      "Off peak cost: 58.40\n",
      "Peak cost: 17.29\n",
      "Solar export: -33.48\n",
      "Supply charge: 29.64\n",
      "Total: 59.28\n"
     ]
    }
   ],
   "source": [
    "energyau = estimateMonthlyCost(energyAu, pastDataSummerDecToJan, verbose=True)"
   ]
  },
  {
   "cell_type": "markdown",
   "metadata": {},
   "source": [
    "Conclusion: in summer, energyAu is more profitable"
   ]
  },
  {
   "cell_type": "markdown",
   "metadata": {},
   "source": [
    "## Jan to Feb"
   ]
  },
  {
   "cell_type": "code",
   "execution_count": 144,
   "metadata": {},
   "outputs": [],
   "source": [
    "pastDataSummerJanToFeb = {\n",
    "    'off_peak_usage': 305.76,\n",
    "    'peak_usage': 43.4,\n",
    "    'solar_export': 771.23\n",
    "}"
   ]
  },
  {
   "cell_type": "code",
   "execution_count": 145,
   "metadata": {},
   "outputs": [
    {
     "name": "stdout",
     "output_type": "stream",
     "text": [
      "Before concession, total cost would be: 67.04\n",
      "Off peak cost: 48.77\n",
      "Peak cost: 15.18\n",
      "Solar export: -25.45\n",
      "Supply charge: 28.55\n",
      "Total: 55.31\n"
     ]
    }
   ],
   "source": [
    "ovo = estimateMonthlyCost(ovoEnergy, pastDataSummerJanToFeb, verbose=True)"
   ]
  },
  {
   "cell_type": "code",
   "execution_count": 146,
   "metadata": {},
   "outputs": [
    {
     "name": "stdout",
     "output_type": "stream",
     "text": [
      "Before concession, total cost would be: 60.01\n",
      "Off peak cost: 56.87\n",
      "Peak cost: 15.15\n",
      "Solar export: -41.65\n",
      "Supply charge: 29.64\n",
      "Total: 49.51\n"
     ]
    }
   ],
   "source": [
    "energyau = estimateMonthlyCost(energyAu, pastDataSummerJanToFeb, verbose=True)"
   ]
  },
  {
   "cell_type": "markdown",
   "metadata": {},
   "source": [
    "## Feb to Mar\n"
   ]
  },
  {
   "cell_type": "code",
   "execution_count": 147,
   "metadata": {},
   "outputs": [
    {
     "name": "stdout",
     "output_type": "stream",
     "text": [
      "--- Ovo Energy\n",
      "Before concession, total cost would be: 73.38\n",
      "Off peak cost: 46.64\n",
      "Peak cost: 19.51\n",
      "Solar export: -21.31\n",
      "Supply charge: 28.55\n",
      "Total: 60.54\n",
      "--- Energy Australia\n",
      "Before concession, total cost would be: 68.62\n",
      "Off peak cost: 54.39\n",
      "Peak cost: 19.46\n",
      "Solar export: -34.88\n",
      "Supply charge: 29.64\n",
      "Total: 56.61\n"
     ]
    }
   ],
   "source": [
    "pastDataSummerFebToMar = {\n",
    "    'off_peak_usage': 292.42,\n",
    "    'peak_usage': 55.77,\n",
    "    'solar_export': 645.9\n",
    "}\n",
    "\n",
    "print('--- Ovo Energy')\n",
    "ovo = estimateMonthlyCost(ovoEnergy, pastDataSummerFebToMar, verbose=True)\n",
    "print('--- Energy Australia')\n",
    "energyau = estimateMonthlyCost(energyAu, pastDataSummerFebToMar, verbose=True)"
   ]
  },
  {
   "cell_type": "markdown",
   "metadata": {},
   "source": [
    "EnergyAustralia's pricing structure rewards Solar Export and has a more balanced time of use energy profile compared to Ovo Energy. This has good benefits for peak usage and high solar exports in summer months. "
   ]
  },
  {
   "cell_type": "markdown",
   "metadata": {},
   "source": [
    "## Mar to Apr"
   ]
  },
  {
   "cell_type": "code",
   "execution_count": 148,
   "metadata": {},
   "outputs": [
    {
     "name": "stdout",
     "output_type": "stream",
     "text": [
      "--- Ovo Energy\n",
      "Before concession, total cost would be: 89.63\n",
      "Off peak cost: 50.33\n",
      "Peak cost: 25.38\n",
      "Solar export: -14.62\n",
      "Supply charge: 28.55\n",
      "Total: 73.95\n",
      "--- Energy Australia\n",
      "Before concession, total cost would be: 89.73\n",
      "Off peak cost: 58.69\n",
      "Peak cost: 25.32\n",
      "Solar export: -23.92\n",
      "Supply charge: 29.64\n",
      "Total: 74.02\n"
     ]
    }
   ],
   "source": [
    "pastDataMarToApr = {\n",
    "    'off_peak_usage': 315.53,\n",
    "    'peak_usage': 72.55,\n",
    "    'solar_export': 442.99\n",
    "}\n",
    "\n",
    "print('--- Ovo Energy')\n",
    "ovo = estimateMonthlyCost(ovoEnergy, pastDataMarToApr, verbose=True)\n",
    "print('--- Energy Australia')\n",
    "energyau = estimateMonthlyCost(energyAu, pastDataMarToApr, verbose=True)"
   ]
  },
  {
   "cell_type": "markdown",
   "metadata": {},
   "source": [
    "## Apr to May"
   ]
  },
  {
   "cell_type": "code",
   "execution_count": 149,
   "metadata": {},
   "outputs": [
    {
     "name": "stdout",
     "output_type": "stream",
     "text": [
      "--- Ovo Energy\n",
      "Before concession, total cost would be: 91.54\n",
      "Off peak cost: 39.04\n",
      "Peak cost: 32.94\n",
      "Solar export: -8.98\n",
      "Supply charge: 28.55\n",
      "Total: 75.52\n",
      "--- Energy Australia\n",
      "Before concession, total cost would be: 93.32\n",
      "Off peak cost: 45.52\n",
      "Peak cost: 32.86\n",
      "Solar export: -14.70\n",
      "Supply charge: 29.64\n",
      "Total: 76.99\n"
     ]
    }
   ],
   "source": [
    "pastDataAprToMay = {\n",
    "    'off_peak_usage': 244.75,\n",
    "    'peak_usage': 94.16,\n",
    "    'solar_export': 272.24\n",
    "}\n",
    "\n",
    "print('--- Ovo Energy')\n",
    "ovo = estimateMonthlyCost(ovoEnergy, pastDataAprToMay, verbose=True)\n",
    "print('--- Energy Australia')\n",
    "energyau = estimateMonthlyCost(energyAu, pastDataAprToMay, verbose=True)"
   ]
  },
  {
   "cell_type": "markdown",
   "metadata": {},
   "source": [
    "## May to Jun"
   ]
  },
  {
   "cell_type": "code",
   "execution_count": 150,
   "metadata": {},
   "outputs": [
    {
     "name": "stdout",
     "output_type": "stream",
     "text": [
      "--- Ovo Energy\n",
      "Before concession, total cost would be: 113.41\n",
      "Off peak cost: 50.56\n",
      "Peak cost: 39.98\n",
      "Solar export: -5.67\n",
      "Supply charge: 28.55\n",
      "Total: 93.56\n",
      "--- Energy Australia\n",
      "Before concession, total cost would be: 119.20\n",
      "Off peak cost: 58.96\n",
      "Peak cost: 39.88\n",
      "Solar export: -9.28\n",
      "Supply charge: 29.64\n",
      "Total: 98.34\n"
     ]
    }
   ],
   "source": [
    "pastDataMayToJun = {\n",
    "    'off_peak_usage': 316.97,\n",
    "    'peak_usage': 114.28,\n",
    "    'solar_export': 171.78\n",
    "}\n",
    "\n",
    "print('--- Ovo Energy')\n",
    "ovo = estimateMonthlyCost(ovoEnergy, pastDataMayToJun, verbose=True)\n",
    "print('--- Energy Australia')\n",
    "energyau = estimateMonthlyCost(energyAu, pastDataMayToJun, verbose=True)"
   ]
  },
  {
   "cell_type": "markdown",
   "metadata": {},
   "source": [
    "## End of Jun 2024 (Special)"
   ]
  },
  {
   "cell_type": "code",
   "execution_count": 151,
   "metadata": {},
   "outputs": [
    {
     "name": "stdout",
     "output_type": "stream",
     "text": [
      "--- Estimated usage for End of June to Mid July with Air Conditioning\n",
      "Estimated off peak usage: 501.43 kwh\n",
      "Estimated peak usage: 218.57 kwh\n",
      "Estimated solar export: 38.57 kwh\n",
      "--- Ovo Energy\n",
      "Before concession, total cost would be: 184.17\n",
      "Off peak cost: 80.44\n",
      "Peak cost: 76.46\n",
      "Solar export: -1.27\n",
      "Supply charge: 28.55\n",
      "Total: 151.94\n",
      "--- Energy Australia\n",
      "Before concession, total cost would be: 197.65\n",
      "Off peak cost: 93.81\n",
      "Peak cost: 76.28\n",
      "Solar export: -2.08\n",
      "Supply charge: 29.64\n",
      "Total: 163.06\n"
     ]
    }
   ],
   "source": [
    "estimated_off_peak_usage = 117 / 7 * 30\n",
    "estimated_peak_usage = 51 / 7 * 30\n",
    "estimated_solar_export = 9 / 7 * 30\n",
    "\n",
    "print('--- Estimated usage for End of June to Mid July with Air Conditioning')\n",
    "print(f\"Estimated off peak usage: {estimated_off_peak_usage:.2f} kwh\")\n",
    "print(f\"Estimated peak usage: {estimated_peak_usage:.2f} kwh\")\n",
    "print(f\"Estimated solar export: {estimated_solar_export:.2f} kwh\")\n",
    "\n",
    "\n",
    "pastDataJunSpecial = {\n",
    "    # uses an estimated profile based on 7 day data post air conditioning installation\n",
    "    'off_peak_usage': 117.68 / 7 * 30,\n",
    "    'peak_usage': 51 / 7 * 30,\n",
    "    'solar_export': 9 / 7 * 30\n",
    "}\n",
    "\n",
    "print('--- Ovo Energy')\n",
    "ovo = estimateMonthlyCost(ovoEnergy, pastDataJunSpecial, verbose=True)\n",
    "print('--- Energy Australia')\n",
    "energyau = estimateMonthlyCost(energyAu, pastDataJunSpecial, verbose=True)"
   ]
  },
  {
   "cell_type": "markdown",
   "metadata": {},
   "source": [
    "## Mathematical Analysis"
   ]
  },
  {
   "cell_type": "code",
   "execution_count": 155,
   "metadata": {},
   "outputs": [
    {
     "name": "stdout",
     "output_type": "stream",
     "text": [
      "--- Ovo Energy\n",
      "Before concession, total cost would be: 195.63\n",
      "Off peak cost: 63.80\n",
      "Peak cost: 104.94\n",
      "Solar export: -1.65\n",
      "Supply charge: 28.55\n",
      "Total: 161.40\n",
      "--- Energy Australia\n",
      "Before concession, total cost would be: 206.04\n",
      "Off peak cost: 74.40\n",
      "Peak cost: 104.70\n",
      "Solar export: -2.70\n",
      "Supply charge: 29.64\n",
      "Total: 169.98\n"
     ]
    }
   ],
   "source": [
    "OffPeakHigh = {\n",
    "    'off_peak_usage': 400,\n",
    "    'peak_usage': 300,\n",
    "    'solar_export': 50\n",
    "}\n",
    "\n",
    "print('--- Ovo Energy')\n",
    "ovo = estimateMonthlyCost(ovoEnergy, OffPeakHigh, verbose=True)\n",
    "print('--- Energy Australia')\n",
    "energyau = estimateMonthlyCost(energyAu, OffPeakHigh, verbose=True)"
   ]
  },
  {
   "cell_type": "code",
   "execution_count": 156,
   "metadata": {},
   "outputs": [
    {
     "name": "stdout",
     "output_type": "stream",
     "text": [
      "--- Ovo Energy\n",
      "Before concession, total cost would be: 104.23\n",
      "Off peak cost: 63.80\n",
      "Peak cost: 34.98\n",
      "Solar export: -23.10\n",
      "Supply charge: 28.55\n",
      "Total: 85.99\n",
      "--- Energy Australia\n",
      "Before concession, total cost would be: 101.14\n",
      "Off peak cost: 74.40\n",
      "Peak cost: 34.90\n",
      "Solar export: -37.80\n",
      "Supply charge: 29.64\n",
      "Total: 83.44\n"
     ]
    }
   ],
   "source": [
    "SolarHigh = {\n",
    "    'off_peak_usage': 400,\n",
    "    'peak_usage': 100,\n",
    "    'solar_export': 700\n",
    "}\n",
    "\n",
    "print('--- Ovo Energy')\n",
    "ovo = estimateMonthlyCost(ovoEnergy, SolarHigh, verbose=True)\n",
    "print('--- Energy Australia')\n",
    "energyau = estimateMonthlyCost(energyAu, SolarHigh, verbose=True)"
   ]
  },
  {
   "cell_type": "markdown",
   "metadata": {},
   "source": [
    "OvoEnergy is cheaper for winter when there is higher off-peak usage compared to solar export, based on mathematical analysis, EnergyAustralia is profitable when there is approximately 120% more solar export compared to offpeak usage, e.g. for every 1 kwh more off-peak energy used, there is a matching 1.2 kwh solar output for the particular month. This is especially true between Nov to Mar.\n",
    "\n",
    "Without additional benefits, the net benefit of switching to Ovo is low. If a switch is made, the optimal time is estimated to be the end of March 2025"
   ]
  }
 ],
 "metadata": {
  "kernelspec": {
   "display_name": ".venv",
   "language": "python",
   "name": "python3"
  },
  "language_info": {
   "codemirror_mode": {
    "name": "ipython",
    "version": 3
   },
   "file_extension": ".py",
   "mimetype": "text/x-python",
   "name": "python",
   "nbconvert_exporter": "python",
   "pygments_lexer": "ipython3",
   "version": "3.10.7"
  }
 },
 "nbformat": 4,
 "nbformat_minor": 2
}
